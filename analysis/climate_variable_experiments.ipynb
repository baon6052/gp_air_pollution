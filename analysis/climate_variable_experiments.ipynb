{
 "cells": [
  {
   "cell_type": "code",
   "execution_count": 46,
   "id": "165ed9fb-2b20-4770-a6d3-df4cd17abd16",
   "metadata": {},
   "outputs": [],
   "source": [
    "import pandas as pd \n",
    "import matplotlib.pyplot as plt\n",
    "import numpy as np"
   ]
  },
  {
   "cell_type": "code",
   "execution_count": 47,
   "id": "8f7943c9-ad9d-4da5-a310-69febf142514",
   "metadata": {},
   "outputs": [],
   "source": [
    "# df2 = pd.read_hdf(\"data/outputs/climate_variables_performance_large_area_6.h5\", key='climate_variables_performance_large_area_6')\n",
    "# df2 = pd.DataFrame(df2.iloc[-1]).T\n",
    "# df1 = pd.read_hdf(\"data/outputs/climate_variables_performance_large_area_5.h5\", key='climate_variables_performance_large_area_5')\n",
    "# df =pd.concat([df1,df2])\n",
    "# df.to_hdf(\"exp_data/climate_variables_experiment.h5\", key=\"climate_variables_experiment\")"
   ]
  },
  {
   "cell_type": "code",
   "execution_count": 61,
   "id": "967f1e03-17de-4c9b-a7c0-64b6fa630260",
   "metadata": {},
   "outputs": [],
   "source": [
    "df = pd.read_hdf(\"exp_data/climate_variables_experiments.h5\")"
   ]
  },
  {
   "cell_type": "code",
   "execution_count": 62,
   "id": "a0e47867-0954-43c0-a06b-e962a46c1e44",
   "metadata": {},
   "outputs": [],
   "source": [
    "def shorten_and_round_list(x, metric):\n",
    "    return (np.round(x[f\"mean_{metric}\"],2), np.round(x[f\"std_{metric}\"],2))"
   ]
  },
  {
   "cell_type": "code",
   "execution_count": 63,
   "id": "5f182115-128a-406a-bf64-eeac8b9976c4",
   "metadata": {},
   "outputs": [],
   "source": [
    "df_mae = df.copy()\n",
    "for kernel in ['RBF', 'Matern52', 'Linear', 'Exponential', 'Custom1',\n",
    "       'Custom2', 'Custom3']:\n",
    "    df_mae[kernel] = df_mae[kernel].apply(lambda x: shorten_and_round_list(x, \"mae\"))"
   ]
  },
  {
   "cell_type": "code",
   "execution_count": 64,
   "id": "e1cd1250-ab54-4b69-a616-7fa5760e8b83",
   "metadata": {},
   "outputs": [],
   "source": [
    "df_mse = df.copy()\n",
    "for kernel in ['RBF', 'Matern52', 'Linear', 'Exponential', 'Custom1',\n",
    "       'Custom2', 'Custom3']:\n",
    "    df_mse[kernel] = df_mse[kernel].apply(lambda x: shorten_and_round_list(x, \"mse\"))"
   ]
  },
  {
   "cell_type": "code",
   "execution_count": 65,
   "id": "fa1f27e1-f8cb-42c8-a067-c5e1da547c1e",
   "metadata": {},
   "outputs": [],
   "source": [
    "df_rmse = df.copy()\n",
    "for kernel in ['RBF', 'Matern52', 'Linear', 'Exponential', 'Custom1',\n",
    "       'Custom2', 'Custom3']:\n",
    "    df_rmse[kernel] = df_rmse[kernel].apply(lambda x: shorten_and_round_list(x, \"rmse\"))"
   ]
  },
  {
   "cell_type": "code",
   "execution_count": 69,
   "id": "d0f72618-9690-4e3d-95e3-f39c5ab92082",
   "metadata": {},
   "outputs": [
    {
     "name": "stdout",
     "output_type": "stream",
     "text": [
      "\\begin{tabular}{llllllll}\n",
      "\\toprule\n",
      " & RBF & Matern52 & Linear & Exponential & Custom1 & Custom2 & Custom3 \\\\\n",
      "\\midrule\n",
      "[] & (1.25, 1.39) & (0.78, 1.1) & (10.85, 4.76) & (0.38, 0.04) & (0.82, 1.09) & (0.54, 0.31) & (2.59, 1.69) \\\\\n",
      "['feels_like'] & (1.61, 0.49) & (1.2, 0.2) & (10.48, 5.95) & (0.93, 0.15) & (1.4, 0.36) & (9.48, 6.02) & (7.34, 6.09) \\\\\n",
      "['feels_like', 'temp_max'] & (1.64, 0.54) & (1.49, 0.55) & (9.67, 5.44) & (1.01, 0.12) & (1.99, 0.95) & (9.67, 4.75) & (6.52, 5.65) \\\\\n",
      "['feels_like', 'temp_max', 'temp'] & (3.44, 0.29) & (3.23, 0.56) & (19.51, 13.41) & (2.13, 0.26) & (3.07, 0.55) & (11.27, 4.76) & (10.93, 4.52) \\\\\n",
      "['feels_like', 'temp_max', 'temp', 'temp_min'] & (3.55, 0.3) & (2.9, 0.42) & (13.46, 7.27) & (2.37, 0.34) & (3.38, 0.4) & (7.2, 5.49) & (11.4, 4.78) \\\\\n",
      "['feels_like', 'temp_max', 'temp', 'temp_min', 'wind_speed'] & (3.18, 0.47) & (3.13, 0.53) & (17.95, 14.28) & (2.16, 0.27) & (3.56, 0.28) & (9.74, 5.18) & (8.04, 5.56) \\\\\n",
      "['feels_like', 'temp_max', 'temp', 'temp_min', 'wind_speed', 'wind_deg'] & (3.8, 0.18) & (3.76, 0.08) & (15.15, 1.73) & (3.66, 0.11) & (3.84, 0.23) & (11.57, 4.53) & (12.97, 6.04) \\\\\n",
      "['feels_like', 'temp_max', 'temp', 'temp_min', 'wind_speed', 'wind_deg', 'clouds_all'] & (3.72, 0.08) & (3.74, 0.1) & (13.58, 1.24) & (3.73, 0.24) & (3.7, 0.03) & (14.19, 1.25) & (13.9, 3.14) \\\\\n",
      "['feels_like', 'temp_max', 'temp', 'temp_min', 'wind_speed', 'wind_deg', 'clouds_all', 'humidity'] & (3.75, 0.12) & (3.74, 0.1) & (13.66, 4.07) & (3.72, 0.12) & (3.71, 0.07) & (13.9, 3.73) & (13.98, 1.73) \\\\\n",
      "['feels_like', 'temp_max', 'temp', 'temp_min', 'wind_speed', 'wind_deg', 'clouds_all', 'humidity', 'pressure'] & (3.77, 0.15) & (3.91, 0.22) & (13.46, 1.77) & (3.76, 0.11) & (3.83, 0.2) & (14.12, 1.22) & (14.46, 0.62) \\\\\n",
      "\\bottomrule\n",
      "\\end{tabular}\n",
      "\n"
     ]
    }
   ],
   "source": [
    "print(df_mse.to_latex())"
   ]
  },
  {
   "cell_type": "code",
   "execution_count": 9,
   "id": "75f7dea0-e1b8-4ca5-b828-988136fd2aaa",
   "metadata": {},
   "outputs": [],
   "source": [
    "ns_df = pd.read_csv(\"data/outputs/n_samples_large_area_rev3.csv\")\n",
    "ns_df = ns_df.rename(columns={\"Unnamed: 0\": \"number_of_samples\"})\n",
    "ns_df = ns_df.set_index('number_of_samples')\n",
    "summary = ns_df.copy()"
   ]
  },
  {
   "cell_type": "code",
   "execution_count": 10,
   "id": "0cd31010-e468-49a2-9179-2813e68b18d8",
   "metadata": {},
   "outputs": [
    {
     "data": {
      "text/html": [
       "<div>\n",
       "<style scoped>\n",
       "    .dataframe tbody tr th:only-of-type {\n",
       "        vertical-align: middle;\n",
       "    }\n",
       "\n",
       "    .dataframe tbody tr th {\n",
       "        vertical-align: top;\n",
       "    }\n",
       "\n",
       "    .dataframe thead th {\n",
       "        text-align: right;\n",
       "    }\n",
       "</style>\n",
       "<table border=\"1\" class=\"dataframe\">\n",
       "  <thead>\n",
       "    <tr style=\"text-align: right;\">\n",
       "      <th></th>\n",
       "      <th>mean_mae</th>\n",
       "      <th>std_mae</th>\n",
       "      <th>mean_mse</th>\n",
       "      <th>std_mse</th>\n",
       "      <th>mean_rmse</th>\n",
       "      <th>std_rmse</th>\n",
       "    </tr>\n",
       "    <tr>\n",
       "      <th>number_of_samples</th>\n",
       "      <th></th>\n",
       "      <th></th>\n",
       "      <th></th>\n",
       "      <th></th>\n",
       "      <th></th>\n",
       "      <th></th>\n",
       "    </tr>\n",
       "  </thead>\n",
       "  <tbody>\n",
       "    <tr>\n",
       "      <th>5</th>\n",
       "      <td>0.4344</td>\n",
       "      <td>0.0283</td>\n",
       "      <td>0.3859</td>\n",
       "      <td>0.0463</td>\n",
       "      <td>0.6200</td>\n",
       "      <td>0.0377</td>\n",
       "    </tr>\n",
       "    <tr>\n",
       "      <th>10</th>\n",
       "      <td>0.4401</td>\n",
       "      <td>0.0266</td>\n",
       "      <td>0.3791</td>\n",
       "      <td>0.0573</td>\n",
       "      <td>0.6140</td>\n",
       "      <td>0.0460</td>\n",
       "    </tr>\n",
       "    <tr>\n",
       "      <th>15</th>\n",
       "      <td>0.4080</td>\n",
       "      <td>0.0222</td>\n",
       "      <td>0.3425</td>\n",
       "      <td>0.0454</td>\n",
       "      <td>0.5838</td>\n",
       "      <td>0.0405</td>\n",
       "    </tr>\n",
       "    <tr>\n",
       "      <th>20</th>\n",
       "      <td>0.4228</td>\n",
       "      <td>0.0092</td>\n",
       "      <td>0.3716</td>\n",
       "      <td>0.0085</td>\n",
       "      <td>0.6095</td>\n",
       "      <td>0.0069</td>\n",
       "    </tr>\n",
       "    <tr>\n",
       "      <th>25</th>\n",
       "      <td>0.4041</td>\n",
       "      <td>0.0200</td>\n",
       "      <td>0.3342</td>\n",
       "      <td>0.0558</td>\n",
       "      <td>0.5761</td>\n",
       "      <td>0.0480</td>\n",
       "    </tr>\n",
       "    <tr>\n",
       "      <th>30</th>\n",
       "      <td>0.3967</td>\n",
       "      <td>0.0203</td>\n",
       "      <td>0.3102</td>\n",
       "      <td>0.0370</td>\n",
       "      <td>0.5559</td>\n",
       "      <td>0.0344</td>\n",
       "    </tr>\n",
       "  </tbody>\n",
       "</table>\n",
       "</div>"
      ],
      "text/plain": [
       "                   mean_mae  std_mae  mean_mse  std_mse  mean_rmse  std_rmse\n",
       "number_of_samples                                                           \n",
       "5                    0.4344   0.0283    0.3859   0.0463     0.6200    0.0377\n",
       "10                   0.4401   0.0266    0.3791   0.0573     0.6140    0.0460\n",
       "15                   0.4080   0.0222    0.3425   0.0454     0.5838    0.0405\n",
       "20                   0.4228   0.0092    0.3716   0.0085     0.6095    0.0069\n",
       "25                   0.4041   0.0200    0.3342   0.0558     0.5761    0.0480\n",
       "30                   0.3967   0.0203    0.3102   0.0370     0.5559    0.0344"
      ]
     },
     "execution_count": 10,
     "metadata": {},
     "output_type": "execute_result"
    }
   ],
   "source": [
    "ns_df"
   ]
  },
  {
   "cell_type": "code",
   "execution_count": null,
   "id": "6def6360-62c1-42a3-919f-c7f9bddbd731",
   "metadata": {},
   "outputs": [],
   "source": []
  }
 ],
 "metadata": {
  "kernelspec": {
   "display_name": "Python 3 (ipykernel)",
   "language": "python",
   "name": "python3"
  },
  "language_info": {
   "codemirror_mode": {
    "name": "ipython",
    "version": 3
   },
   "file_extension": ".py",
   "mimetype": "text/x-python",
   "name": "python",
   "nbconvert_exporter": "python",
   "pygments_lexer": "ipython3",
   "version": "3.10.13"
  }
 },
 "nbformat": 4,
 "nbformat_minor": 5
}
