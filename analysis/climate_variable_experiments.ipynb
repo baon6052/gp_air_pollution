{
 "cells": [
  {
   "cell_type": "code",
   "execution_count": 10,
   "id": "165ed9fb-2b20-4770-a6d3-df4cd17abd16",
   "metadata": {
    "ExecuteTime": {
     "end_time": "2024-01-17T10:18:39.462973Z",
     "start_time": "2024-01-17T10:18:39.449164Z"
    }
   },
   "outputs": [],
   "source": [
    "import pandas as pd \n",
    "import matplotlib.pyplot as plt\n",
    "import numpy as np"
   ]
  },
  {
   "cell_type": "code",
   "execution_count": 11,
   "id": "8f7943c9-ad9d-4da5-a310-69febf142514",
   "metadata": {
    "ExecuteTime": {
     "end_time": "2024-01-17T10:18:39.466360Z",
     "start_time": "2024-01-17T10:18:39.456906Z"
    }
   },
   "outputs": [],
   "source": [
    "# df2 = pd.read_hdf(\"data/outputs/climate_variables_performance_large_area_6.h5\", key='climate_variables_performance_large_area_6')\n",
    "# df2 = pd.DataFrame(df2.iloc[-1]).T\n",
    "# df1 = pd.read_hdf(\"data/outputs/climate_variables_performance_large_area_5.h5\", key='climate_variables_performance_large_area_5')\n",
    "# df =pd.concat([df1,df2])\n",
    "# df.to_hdf(\"exp_data/climate_variables_experiment.h5\", key=\"climate_variables_experiment\")"
   ]
  },
  {
   "cell_type": "code",
   "execution_count": 12,
   "id": "967f1e03-17de-4c9b-a7c0-64b6fa630260",
   "metadata": {
    "ExecuteTime": {
     "end_time": "2024-01-17T10:18:39.489867Z",
     "start_time": "2024-01-17T10:18:39.476760Z"
    }
   },
   "outputs": [],
   "source": [
    "df = pd.read_hdf(\"../exp_data/climate_variables_experiments.h5\")"
   ]
  },
  {
   "cell_type": "code",
   "execution_count": 13,
   "id": "a0e47867-0954-43c0-a06b-e962a46c1e44",
   "metadata": {
    "ExecuteTime": {
     "end_time": "2024-01-17T10:18:39.490992Z",
     "start_time": "2024-01-17T10:18:39.485636Z"
    }
   },
   "outputs": [],
   "source": [
    "def shorten_and_round_list(x, metric):\n",
    "    return f\"{np.round(x[f'mean_{metric}'],2)}({np.round(x[f'std_{metric}'], 2)})\""
   ]
  },
  {
   "cell_type": "code",
   "execution_count": 14,
   "id": "5f182115-128a-406a-bf64-eeac8b9976c4",
   "metadata": {
    "ExecuteTime": {
     "end_time": "2024-01-17T10:18:39.498367Z",
     "start_time": "2024-01-17T10:18:39.493290Z"
    }
   },
   "outputs": [],
   "source": [
    "df_mae = df.copy()\n",
    "for kernel in ['RBF', 'Matern52', 'Linear', 'Exponential', 'Custom1',\n",
    "       'Custom2', 'Custom3']:\n",
    "    df_mae[kernel] = df_mae[kernel].apply(lambda x: shorten_and_round_list(x, \"mae\"))"
   ]
  },
  {
   "cell_type": "code",
   "execution_count": 15,
   "id": "e1cd1250-ab54-4b69-a616-7fa5760e8b83",
   "metadata": {
    "ExecuteTime": {
     "end_time": "2024-01-17T10:18:39.503350Z",
     "start_time": "2024-01-17T10:18:39.499752Z"
    }
   },
   "outputs": [],
   "source": [
    "df_mse = df.copy()\n",
    "for kernel in ['RBF', 'Matern52', 'Linear', 'Exponential', 'Custom1',\n",
    "       'Custom2', 'Custom3']:\n",
    "    df_mse[kernel] = df_mse[kernel].apply(lambda x: shorten_and_round_list(x, \"mse\"))"
   ]
  },
  {
   "cell_type": "code",
   "execution_count": 16,
   "id": "fa1f27e1-f8cb-42c8-a067-c5e1da547c1e",
   "metadata": {
    "ExecuteTime": {
     "end_time": "2024-01-17T10:18:39.511457Z",
     "start_time": "2024-01-17T10:18:39.506834Z"
    }
   },
   "outputs": [],
   "source": [
    "df_rmse = df.copy()\n",
    "for kernel in ['RBF', 'Matern52', 'Linear', 'Exponential', 'Custom1',\n",
    "       'Custom2', 'Custom3']:\n",
    "    df_rmse[kernel] = df_rmse[kernel].apply(lambda x: shorten_and_round_list(x, \"rmse\"))"
   ]
  },
  {
   "cell_type": "code",
   "execution_count": 17,
   "id": "d0f72618-9690-4e3d-95e3-f39c5ab92082",
   "metadata": {
    "ExecuteTime": {
     "end_time": "2024-01-17T10:18:39.521679Z",
     "start_time": "2024-01-17T10:18:39.510014Z"
    }
   },
   "outputs": [
    {
     "name": "stdout",
     "output_type": "stream",
     "text": [
      "\\begin{tabular}{llllllll}\n",
      "\\toprule\n",
      " & RBF & Matern52 & Linear & Exponential & Custom1 & Custom2 & Custom3 \\\\\n",
      "\\midrule\n",
      "[] & 1.25(1.39) & 0.78(1.1) & 10.85(4.76) & 0.38(0.04) & 0.82(1.09) & 0.54(0.31) & 2.59(1.69) \\\\\n",
      "['feels_like'] & 1.61(0.49) & 1.2(0.2) & 10.48(5.95) & 0.93(0.15) & 1.4(0.36) & 9.48(6.02) & 7.34(6.09) \\\\\n",
      "['feels_like', 'temp_max'] & 1.64(0.54) & 1.49(0.55) & 9.67(5.44) & 1.01(0.12) & 1.99(0.95) & 9.67(4.75) & 6.52(5.65) \\\\\n",
      "['feels_like', 'temp_max', 'temp'] & 3.44(0.29) & 3.23(0.56) & 19.51(13.41) & 2.13(0.26) & 3.07(0.55) & 11.27(4.76) & 10.93(4.52) \\\\\n",
      "['feels_like', 'temp_max', 'temp', 'temp_min'] & 3.55(0.3) & 2.9(0.42) & 13.46(7.27) & 2.37(0.34) & 3.38(0.4) & 7.2(5.49) & 11.4(4.78) \\\\\n",
      "['feels_like', 'temp_max', 'temp', 'temp_min', 'wind_speed'] & 3.18(0.47) & 3.13(0.53) & 17.95(14.28) & 2.16(0.27) & 3.56(0.28) & 9.74(5.18) & 8.04(5.56) \\\\\n",
      "['feels_like', 'temp_max', 'temp', 'temp_min', 'wind_speed', 'wind_deg'] & 3.8(0.18) & 3.76(0.08) & 15.15(1.73) & 3.66(0.11) & 3.84(0.23) & 11.57(4.53) & 12.97(6.04) \\\\\n",
      "['feels_like', 'temp_max', 'temp', 'temp_min', 'wind_speed', 'wind_deg', 'clouds_all'] & 3.72(0.08) & 3.74(0.1) & 13.58(1.24) & 3.73(0.24) & 3.7(0.03) & 14.19(1.25) & 13.9(3.14) \\\\\n",
      "['feels_like', 'temp_max', 'temp', 'temp_min', 'wind_speed', 'wind_deg', 'clouds_all', 'humidity'] & 3.75(0.12) & 3.74(0.1) & 13.66(4.07) & 3.72(0.12) & 3.71(0.07) & 13.9(3.73) & 13.98(1.73) \\\\\n",
      "['feels_like', 'temp_max', 'temp', 'temp_min', 'wind_speed', 'wind_deg', 'clouds_all', 'humidity', 'pressure'] & 3.77(0.15) & 3.91(0.22) & 13.46(1.77) & 3.76(0.11) & 3.83(0.2) & 14.12(1.22) & 14.46(0.62) \\\\\n",
      "\\bottomrule\n",
      "\\end{tabular}\n"
     ]
    }
   ],
   "source": [
    "print(df_mse.to_latex())"
   ]
  },
  {
   "cell_type": "code",
   "execution_count": 19,
   "id": "75f7dea0-e1b8-4ca5-b828-988136fd2aaa",
   "metadata": {
    "ExecuteTime": {
     "end_time": "2024-01-17T10:19:03.106103Z",
     "start_time": "2024-01-17T10:19:03.058100Z"
    }
   },
   "outputs": [
    {
     "ename": "FileNotFoundError",
     "evalue": "[Errno 2] No such file or directory: '../data/outputs/n_samples_large_area_rev3.csv'",
     "output_type": "error",
     "traceback": [
      "\u001B[0;31m---------------------------------------------------------------------------\u001B[0m",
      "\u001B[0;31mFileNotFoundError\u001B[0m                         Traceback (most recent call last)",
      "Cell \u001B[0;32mIn[19], line 1\u001B[0m\n\u001B[0;32m----> 1\u001B[0m ns_df \u001B[38;5;241m=\u001B[39m \u001B[43mpd\u001B[49m\u001B[38;5;241;43m.\u001B[39;49m\u001B[43mread_csv\u001B[49m\u001B[43m(\u001B[49m\u001B[38;5;124;43m\"\u001B[39;49m\u001B[38;5;124;43m../data/outputs/n_samples_large_area_rev3.csv\u001B[39;49m\u001B[38;5;124;43m\"\u001B[39;49m\u001B[43m)\u001B[49m\n\u001B[1;32m      2\u001B[0m ns_df \u001B[38;5;241m=\u001B[39m ns_df\u001B[38;5;241m.\u001B[39mrename(columns\u001B[38;5;241m=\u001B[39m{\u001B[38;5;124m\"\u001B[39m\u001B[38;5;124mUnnamed: 0\u001B[39m\u001B[38;5;124m\"\u001B[39m: \u001B[38;5;124m\"\u001B[39m\u001B[38;5;124mnumber_of_samples\u001B[39m\u001B[38;5;124m\"\u001B[39m})\n\u001B[1;32m      3\u001B[0m ns_df \u001B[38;5;241m=\u001B[39m ns_df\u001B[38;5;241m.\u001B[39mset_index(\u001B[38;5;124m'\u001B[39m\u001B[38;5;124mnumber_of_samples\u001B[39m\u001B[38;5;124m'\u001B[39m)\n",
      "File \u001B[0;32m~/.pyenv/versions/miniconda3-latest/envs/gpenv2/lib/python3.10/site-packages/pandas/io/parsers/readers.py:948\u001B[0m, in \u001B[0;36mread_csv\u001B[0;34m(filepath_or_buffer, sep, delimiter, header, names, index_col, usecols, dtype, engine, converters, true_values, false_values, skipinitialspace, skiprows, skipfooter, nrows, na_values, keep_default_na, na_filter, verbose, skip_blank_lines, parse_dates, infer_datetime_format, keep_date_col, date_parser, date_format, dayfirst, cache_dates, iterator, chunksize, compression, thousands, decimal, lineterminator, quotechar, quoting, doublequote, escapechar, comment, encoding, encoding_errors, dialect, on_bad_lines, delim_whitespace, low_memory, memory_map, float_precision, storage_options, dtype_backend)\u001B[0m\n\u001B[1;32m    935\u001B[0m kwds_defaults \u001B[38;5;241m=\u001B[39m _refine_defaults_read(\n\u001B[1;32m    936\u001B[0m     dialect,\n\u001B[1;32m    937\u001B[0m     delimiter,\n\u001B[0;32m   (...)\u001B[0m\n\u001B[1;32m    944\u001B[0m     dtype_backend\u001B[38;5;241m=\u001B[39mdtype_backend,\n\u001B[1;32m    945\u001B[0m )\n\u001B[1;32m    946\u001B[0m kwds\u001B[38;5;241m.\u001B[39mupdate(kwds_defaults)\n\u001B[0;32m--> 948\u001B[0m \u001B[38;5;28;01mreturn\u001B[39;00m \u001B[43m_read\u001B[49m\u001B[43m(\u001B[49m\u001B[43mfilepath_or_buffer\u001B[49m\u001B[43m,\u001B[49m\u001B[43m \u001B[49m\u001B[43mkwds\u001B[49m\u001B[43m)\u001B[49m\n",
      "File \u001B[0;32m~/.pyenv/versions/miniconda3-latest/envs/gpenv2/lib/python3.10/site-packages/pandas/io/parsers/readers.py:611\u001B[0m, in \u001B[0;36m_read\u001B[0;34m(filepath_or_buffer, kwds)\u001B[0m\n\u001B[1;32m    608\u001B[0m _validate_names(kwds\u001B[38;5;241m.\u001B[39mget(\u001B[38;5;124m\"\u001B[39m\u001B[38;5;124mnames\u001B[39m\u001B[38;5;124m\"\u001B[39m, \u001B[38;5;28;01mNone\u001B[39;00m))\n\u001B[1;32m    610\u001B[0m \u001B[38;5;66;03m# Create the parser.\u001B[39;00m\n\u001B[0;32m--> 611\u001B[0m parser \u001B[38;5;241m=\u001B[39m \u001B[43mTextFileReader\u001B[49m\u001B[43m(\u001B[49m\u001B[43mfilepath_or_buffer\u001B[49m\u001B[43m,\u001B[49m\u001B[43m \u001B[49m\u001B[38;5;241;43m*\u001B[39;49m\u001B[38;5;241;43m*\u001B[39;49m\u001B[43mkwds\u001B[49m\u001B[43m)\u001B[49m\n\u001B[1;32m    613\u001B[0m \u001B[38;5;28;01mif\u001B[39;00m chunksize \u001B[38;5;129;01mor\u001B[39;00m iterator:\n\u001B[1;32m    614\u001B[0m     \u001B[38;5;28;01mreturn\u001B[39;00m parser\n",
      "File \u001B[0;32m~/.pyenv/versions/miniconda3-latest/envs/gpenv2/lib/python3.10/site-packages/pandas/io/parsers/readers.py:1448\u001B[0m, in \u001B[0;36mTextFileReader.__init__\u001B[0;34m(self, f, engine, **kwds)\u001B[0m\n\u001B[1;32m   1445\u001B[0m     \u001B[38;5;28mself\u001B[39m\u001B[38;5;241m.\u001B[39moptions[\u001B[38;5;124m\"\u001B[39m\u001B[38;5;124mhas_index_names\u001B[39m\u001B[38;5;124m\"\u001B[39m] \u001B[38;5;241m=\u001B[39m kwds[\u001B[38;5;124m\"\u001B[39m\u001B[38;5;124mhas_index_names\u001B[39m\u001B[38;5;124m\"\u001B[39m]\n\u001B[1;32m   1447\u001B[0m \u001B[38;5;28mself\u001B[39m\u001B[38;5;241m.\u001B[39mhandles: IOHandles \u001B[38;5;241m|\u001B[39m \u001B[38;5;28;01mNone\u001B[39;00m \u001B[38;5;241m=\u001B[39m \u001B[38;5;28;01mNone\u001B[39;00m\n\u001B[0;32m-> 1448\u001B[0m \u001B[38;5;28mself\u001B[39m\u001B[38;5;241m.\u001B[39m_engine \u001B[38;5;241m=\u001B[39m \u001B[38;5;28;43mself\u001B[39;49m\u001B[38;5;241;43m.\u001B[39;49m\u001B[43m_make_engine\u001B[49m\u001B[43m(\u001B[49m\u001B[43mf\u001B[49m\u001B[43m,\u001B[49m\u001B[43m \u001B[49m\u001B[38;5;28;43mself\u001B[39;49m\u001B[38;5;241;43m.\u001B[39;49m\u001B[43mengine\u001B[49m\u001B[43m)\u001B[49m\n",
      "File \u001B[0;32m~/.pyenv/versions/miniconda3-latest/envs/gpenv2/lib/python3.10/site-packages/pandas/io/parsers/readers.py:1705\u001B[0m, in \u001B[0;36mTextFileReader._make_engine\u001B[0;34m(self, f, engine)\u001B[0m\n\u001B[1;32m   1703\u001B[0m     \u001B[38;5;28;01mif\u001B[39;00m \u001B[38;5;124m\"\u001B[39m\u001B[38;5;124mb\u001B[39m\u001B[38;5;124m\"\u001B[39m \u001B[38;5;129;01mnot\u001B[39;00m \u001B[38;5;129;01min\u001B[39;00m mode:\n\u001B[1;32m   1704\u001B[0m         mode \u001B[38;5;241m+\u001B[39m\u001B[38;5;241m=\u001B[39m \u001B[38;5;124m\"\u001B[39m\u001B[38;5;124mb\u001B[39m\u001B[38;5;124m\"\u001B[39m\n\u001B[0;32m-> 1705\u001B[0m \u001B[38;5;28mself\u001B[39m\u001B[38;5;241m.\u001B[39mhandles \u001B[38;5;241m=\u001B[39m \u001B[43mget_handle\u001B[49m\u001B[43m(\u001B[49m\n\u001B[1;32m   1706\u001B[0m \u001B[43m    \u001B[49m\u001B[43mf\u001B[49m\u001B[43m,\u001B[49m\n\u001B[1;32m   1707\u001B[0m \u001B[43m    \u001B[49m\u001B[43mmode\u001B[49m\u001B[43m,\u001B[49m\n\u001B[1;32m   1708\u001B[0m \u001B[43m    \u001B[49m\u001B[43mencoding\u001B[49m\u001B[38;5;241;43m=\u001B[39;49m\u001B[38;5;28;43mself\u001B[39;49m\u001B[38;5;241;43m.\u001B[39;49m\u001B[43moptions\u001B[49m\u001B[38;5;241;43m.\u001B[39;49m\u001B[43mget\u001B[49m\u001B[43m(\u001B[49m\u001B[38;5;124;43m\"\u001B[39;49m\u001B[38;5;124;43mencoding\u001B[39;49m\u001B[38;5;124;43m\"\u001B[39;49m\u001B[43m,\u001B[49m\u001B[43m \u001B[49m\u001B[38;5;28;43;01mNone\u001B[39;49;00m\u001B[43m)\u001B[49m\u001B[43m,\u001B[49m\n\u001B[1;32m   1709\u001B[0m \u001B[43m    \u001B[49m\u001B[43mcompression\u001B[49m\u001B[38;5;241;43m=\u001B[39;49m\u001B[38;5;28;43mself\u001B[39;49m\u001B[38;5;241;43m.\u001B[39;49m\u001B[43moptions\u001B[49m\u001B[38;5;241;43m.\u001B[39;49m\u001B[43mget\u001B[49m\u001B[43m(\u001B[49m\u001B[38;5;124;43m\"\u001B[39;49m\u001B[38;5;124;43mcompression\u001B[39;49m\u001B[38;5;124;43m\"\u001B[39;49m\u001B[43m,\u001B[49m\u001B[43m \u001B[49m\u001B[38;5;28;43;01mNone\u001B[39;49;00m\u001B[43m)\u001B[49m\u001B[43m,\u001B[49m\n\u001B[1;32m   1710\u001B[0m \u001B[43m    \u001B[49m\u001B[43mmemory_map\u001B[49m\u001B[38;5;241;43m=\u001B[39;49m\u001B[38;5;28;43mself\u001B[39;49m\u001B[38;5;241;43m.\u001B[39;49m\u001B[43moptions\u001B[49m\u001B[38;5;241;43m.\u001B[39;49m\u001B[43mget\u001B[49m\u001B[43m(\u001B[49m\u001B[38;5;124;43m\"\u001B[39;49m\u001B[38;5;124;43mmemory_map\u001B[39;49m\u001B[38;5;124;43m\"\u001B[39;49m\u001B[43m,\u001B[49m\u001B[43m \u001B[49m\u001B[38;5;28;43;01mFalse\u001B[39;49;00m\u001B[43m)\u001B[49m\u001B[43m,\u001B[49m\n\u001B[1;32m   1711\u001B[0m \u001B[43m    \u001B[49m\u001B[43mis_text\u001B[49m\u001B[38;5;241;43m=\u001B[39;49m\u001B[43mis_text\u001B[49m\u001B[43m,\u001B[49m\n\u001B[1;32m   1712\u001B[0m \u001B[43m    \u001B[49m\u001B[43merrors\u001B[49m\u001B[38;5;241;43m=\u001B[39;49m\u001B[38;5;28;43mself\u001B[39;49m\u001B[38;5;241;43m.\u001B[39;49m\u001B[43moptions\u001B[49m\u001B[38;5;241;43m.\u001B[39;49m\u001B[43mget\u001B[49m\u001B[43m(\u001B[49m\u001B[38;5;124;43m\"\u001B[39;49m\u001B[38;5;124;43mencoding_errors\u001B[39;49m\u001B[38;5;124;43m\"\u001B[39;49m\u001B[43m,\u001B[49m\u001B[43m \u001B[49m\u001B[38;5;124;43m\"\u001B[39;49m\u001B[38;5;124;43mstrict\u001B[39;49m\u001B[38;5;124;43m\"\u001B[39;49m\u001B[43m)\u001B[49m\u001B[43m,\u001B[49m\n\u001B[1;32m   1713\u001B[0m \u001B[43m    \u001B[49m\u001B[43mstorage_options\u001B[49m\u001B[38;5;241;43m=\u001B[39;49m\u001B[38;5;28;43mself\u001B[39;49m\u001B[38;5;241;43m.\u001B[39;49m\u001B[43moptions\u001B[49m\u001B[38;5;241;43m.\u001B[39;49m\u001B[43mget\u001B[49m\u001B[43m(\u001B[49m\u001B[38;5;124;43m\"\u001B[39;49m\u001B[38;5;124;43mstorage_options\u001B[39;49m\u001B[38;5;124;43m\"\u001B[39;49m\u001B[43m,\u001B[49m\u001B[43m \u001B[49m\u001B[38;5;28;43;01mNone\u001B[39;49;00m\u001B[43m)\u001B[49m\u001B[43m,\u001B[49m\n\u001B[1;32m   1714\u001B[0m \u001B[43m\u001B[49m\u001B[43m)\u001B[49m\n\u001B[1;32m   1715\u001B[0m \u001B[38;5;28;01massert\u001B[39;00m \u001B[38;5;28mself\u001B[39m\u001B[38;5;241m.\u001B[39mhandles \u001B[38;5;129;01mis\u001B[39;00m \u001B[38;5;129;01mnot\u001B[39;00m \u001B[38;5;28;01mNone\u001B[39;00m\n\u001B[1;32m   1716\u001B[0m f \u001B[38;5;241m=\u001B[39m \u001B[38;5;28mself\u001B[39m\u001B[38;5;241m.\u001B[39mhandles\u001B[38;5;241m.\u001B[39mhandle\n",
      "File \u001B[0;32m~/.pyenv/versions/miniconda3-latest/envs/gpenv2/lib/python3.10/site-packages/pandas/io/common.py:863\u001B[0m, in \u001B[0;36mget_handle\u001B[0;34m(path_or_buf, mode, encoding, compression, memory_map, is_text, errors, storage_options)\u001B[0m\n\u001B[1;32m    858\u001B[0m \u001B[38;5;28;01melif\u001B[39;00m \u001B[38;5;28misinstance\u001B[39m(handle, \u001B[38;5;28mstr\u001B[39m):\n\u001B[1;32m    859\u001B[0m     \u001B[38;5;66;03m# Check whether the filename is to be opened in binary mode.\u001B[39;00m\n\u001B[1;32m    860\u001B[0m     \u001B[38;5;66;03m# Binary mode does not support 'encoding' and 'newline'.\u001B[39;00m\n\u001B[1;32m    861\u001B[0m     \u001B[38;5;28;01mif\u001B[39;00m ioargs\u001B[38;5;241m.\u001B[39mencoding \u001B[38;5;129;01mand\u001B[39;00m \u001B[38;5;124m\"\u001B[39m\u001B[38;5;124mb\u001B[39m\u001B[38;5;124m\"\u001B[39m \u001B[38;5;129;01mnot\u001B[39;00m \u001B[38;5;129;01min\u001B[39;00m ioargs\u001B[38;5;241m.\u001B[39mmode:\n\u001B[1;32m    862\u001B[0m         \u001B[38;5;66;03m# Encoding\u001B[39;00m\n\u001B[0;32m--> 863\u001B[0m         handle \u001B[38;5;241m=\u001B[39m \u001B[38;5;28;43mopen\u001B[39;49m\u001B[43m(\u001B[49m\n\u001B[1;32m    864\u001B[0m \u001B[43m            \u001B[49m\u001B[43mhandle\u001B[49m\u001B[43m,\u001B[49m\n\u001B[1;32m    865\u001B[0m \u001B[43m            \u001B[49m\u001B[43mioargs\u001B[49m\u001B[38;5;241;43m.\u001B[39;49m\u001B[43mmode\u001B[49m\u001B[43m,\u001B[49m\n\u001B[1;32m    866\u001B[0m \u001B[43m            \u001B[49m\u001B[43mencoding\u001B[49m\u001B[38;5;241;43m=\u001B[39;49m\u001B[43mioargs\u001B[49m\u001B[38;5;241;43m.\u001B[39;49m\u001B[43mencoding\u001B[49m\u001B[43m,\u001B[49m\n\u001B[1;32m    867\u001B[0m \u001B[43m            \u001B[49m\u001B[43merrors\u001B[49m\u001B[38;5;241;43m=\u001B[39;49m\u001B[43merrors\u001B[49m\u001B[43m,\u001B[49m\n\u001B[1;32m    868\u001B[0m \u001B[43m            \u001B[49m\u001B[43mnewline\u001B[49m\u001B[38;5;241;43m=\u001B[39;49m\u001B[38;5;124;43m\"\u001B[39;49m\u001B[38;5;124;43m\"\u001B[39;49m\u001B[43m,\u001B[49m\n\u001B[1;32m    869\u001B[0m \u001B[43m        \u001B[49m\u001B[43m)\u001B[49m\n\u001B[1;32m    870\u001B[0m     \u001B[38;5;28;01melse\u001B[39;00m:\n\u001B[1;32m    871\u001B[0m         \u001B[38;5;66;03m# Binary mode\u001B[39;00m\n\u001B[1;32m    872\u001B[0m         handle \u001B[38;5;241m=\u001B[39m \u001B[38;5;28mopen\u001B[39m(handle, ioargs\u001B[38;5;241m.\u001B[39mmode)\n",
      "\u001B[0;31mFileNotFoundError\u001B[0m: [Errno 2] No such file or directory: '../data/outputs/n_samples_large_area_rev3.csv'"
     ]
    }
   ],
   "source": [
    "ns_df = pd.read_csv(\"../data/outputs/n_samples_large_area_rev3.csv\")\n",
    "ns_df = ns_df.rename(columns={\"Unnamed: 0\": \"number_of_samples\"})\n",
    "ns_df = ns_df.set_index('number_of_samples')\n",
    "summary = ns_df.copy()"
   ]
  },
  {
   "cell_type": "code",
   "execution_count": null,
   "id": "0cd31010-e468-49a2-9179-2813e68b18d8",
   "metadata": {
    "ExecuteTime": {
     "start_time": "2024-01-17T10:18:39.578545Z"
    }
   },
   "outputs": [],
   "source": [
    "ns_df"
   ]
  },
  {
   "cell_type": "code",
   "execution_count": null,
   "id": "6def6360-62c1-42a3-919f-c7f9bddbd731",
   "metadata": {
    "ExecuteTime": {
     "end_time": "2024-01-17T10:18:39.580174Z",
     "start_time": "2024-01-17T10:18:39.580081Z"
    }
   },
   "outputs": [],
   "source": []
  }
 ],
 "metadata": {
  "kernelspec": {
   "display_name": "Python 3 (ipykernel)",
   "language": "python",
   "name": "python3"
  },
  "language_info": {
   "codemirror_mode": {
    "name": "ipython",
    "version": 3
   },
   "file_extension": ".py",
   "mimetype": "text/x-python",
   "name": "python",
   "nbconvert_exporter": "python",
   "pygments_lexer": "ipython3",
   "version": "3.10.13"
  }
 },
 "nbformat": 4,
 "nbformat_minor": 5
}
