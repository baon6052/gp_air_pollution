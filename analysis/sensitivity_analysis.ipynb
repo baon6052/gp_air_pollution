{
 "cells": [
  {
   "cell_type": "markdown",
   "source": [
    "# Sensitivity Analysis"
   ],
   "metadata": {
    "collapsed": false
   },
   "id": "c484953a502a0ec6"
  },
  {
   "cell_type": "code",
   "outputs": [],
   "source": [
    "import pandas as pd\n",
    "import seaborn as sns\n",
    "import matplotlib.pyplot as plt\n",
    "\n",
    "sns.set_style('whitegrid')\n",
    "sns.set_context('paper')"
   ],
   "metadata": {
    "collapsed": false,
    "ExecuteTime": {
     "end_time": "2024-01-12T15:33:20.477553Z",
     "start_time": "2024-01-12T15:33:20.460773Z"
    }
   },
   "id": "6308c5bc321e37a5",
   "execution_count": 38
  },
  {
   "cell_type": "code",
   "outputs": [
    {
     "data": {
      "text/plain": "    Variable  Main Effects  Total Effects\n0  longitude     -0.429250       1.277807\n1   latitude     -0.330005       1.080865\n2       temp     -0.326305       1.252591\n3   pressure     -0.368847       0.801624\n4   humidity     -0.280460       1.062403",
      "text/html": "<div>\n<style scoped>\n    .dataframe tbody tr th:only-of-type {\n        vertical-align: middle;\n    }\n\n    .dataframe tbody tr th {\n        vertical-align: top;\n    }\n\n    .dataframe thead th {\n        text-align: right;\n    }\n</style>\n<table border=\"1\" class=\"dataframe\">\n  <thead>\n    <tr style=\"text-align: right;\">\n      <th></th>\n      <th>Variable</th>\n      <th>Main Effects</th>\n      <th>Total Effects</th>\n    </tr>\n  </thead>\n  <tbody>\n    <tr>\n      <th>0</th>\n      <td>longitude</td>\n      <td>-0.429250</td>\n      <td>1.277807</td>\n    </tr>\n    <tr>\n      <th>1</th>\n      <td>latitude</td>\n      <td>-0.330005</td>\n      <td>1.080865</td>\n    </tr>\n    <tr>\n      <th>2</th>\n      <td>temp</td>\n      <td>-0.326305</td>\n      <td>1.252591</td>\n    </tr>\n    <tr>\n      <th>3</th>\n      <td>pressure</td>\n      <td>-0.368847</td>\n      <td>0.801624</td>\n    </tr>\n    <tr>\n      <th>4</th>\n      <td>humidity</td>\n      <td>-0.280460</td>\n      <td>1.062403</td>\n    </tr>\n  </tbody>\n</table>\n</div>"
     },
     "execution_count": 39,
     "metadata": {},
     "output_type": "execute_result"
    }
   ],
   "source": [
    "df = pd.read_csv('../exp_data/sensitivity_analysis.csv')\n",
    "df.head()"
   ],
   "metadata": {
    "collapsed": false,
    "ExecuteTime": {
     "end_time": "2024-01-12T15:33:20.479197Z",
     "start_time": "2024-01-12T15:33:20.465812Z"
    }
   },
   "id": "b324ef62dc7fd26d",
   "execution_count": 39
  },
  {
   "cell_type": "code",
   "outputs": [
    {
     "data": {
      "text/plain": "<Axes: xlabel='Variable', ylabel='Total Effects'>"
     },
     "execution_count": 40,
     "metadata": {},
     "output_type": "execute_result"
    },
    {
     "data": {
      "text/plain": "<Figure size 640x480 with 1 Axes>",
      "image/png": "[encoded data removed]"
     },
     "metadata": {},
     "output_type": "display_data"
    }
   ],
   "source": [
    "sns.barplot(df, x=\"Variable\", y=\"Total Effects\")"
   ],
   "metadata": {
    "collapsed": false,
    "ExecuteTime": {
     "end_time": "2024-01-12T15:33:20.609332Z",
     "start_time": "2024-01-12T15:33:20.497772Z"
    }
   },
   "id": "c1b669d9a36a218f",
   "execution_count": 40
  },
  {
   "cell_type": "code",
   "outputs": [],
   "source": [],
   "metadata": {
    "collapsed": false,
    "ExecuteTime": {
     "end_time": "2024-01-12T15:33:20.616132Z",
     "start_time": "2024-01-12T15:33:20.609332Z"
    }
   },
   "id": "cd524136b606fa10",
   "execution_count": 40
  }
 ],
 "metadata": {
  "kernelspec": {
   "display_name": "Python 3",
   "language": "python",
   "name": "python3"
  },
  "language_info": {
   "codemirror_mode": {
    "name": "ipython",
    "version": 2
   },
   "file_extension": ".py",
   "mimetype": "text/x-python",
   "name": "python",
   "nbconvert_exporter": "python",
   "pygments_lexer": "ipython2",
   "version": "2.7.6"
  }
 },
 "nbformat": 4,
 "nbformat_minor": 5
}
