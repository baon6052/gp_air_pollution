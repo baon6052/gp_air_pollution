{
 "cells": [
  {
   "cell_type": "markdown",
   "source": [
    "# Effect of Acquisition Function"
   ],
   "metadata": {
    "collapsed": false
   },
   "id": "cafa3aa5b9697568"
  },
  {
   "cell_type": "code",
   "outputs": [],
   "source": [
    "\n",
    "import matplotlib.pyplot as plt\n",
    "import pandas as pd\n",
    "import seaborn as sns\n",
    "\n",
    "sns.set_style('whitegrid')\n",
    "sns.set_context('paper')"
   ],
   "metadata": {
    "collapsed": false,
    "ExecuteTime": {
     "end_time": "2024-01-17T12:51:42.917405Z",
     "start_time": "2024-01-17T12:51:42.912524Z"
    }
   },
   "id": "9188108e4e0d06c3",
   "execution_count": 1
  },
  {
   "cell_type": "code",
   "outputs": [
    {
     "data": {
      "text/plain": "  acquisition_function       mae       mse      rmse\n0        ModelVariance  0.438994  0.357334  0.597774\n1        ModelVariance  0.418861  0.379355  0.615918\n2        ModelVariance  0.428317  0.393342  0.627170\n3        ModelVariance  0.456330  0.501061  0.707857\n4        ModelVariance  0.421858  0.338634  0.581923",
      "text/html": "<div>\n<style scoped>\n    .dataframe tbody tr th:only-of-type {\n        vertical-align: middle;\n    }\n\n    .dataframe tbody tr th {\n        vertical-align: top;\n    }\n\n    .dataframe thead th {\n        text-align: right;\n    }\n</style>\n<table border=\"1\" class=\"dataframe\">\n  <thead>\n    <tr style=\"text-align: right;\">\n      <th></th>\n      <th>acquisition_function</th>\n      <th>mae</th>\n      <th>mse</th>\n      <th>rmse</th>\n    </tr>\n  </thead>\n  <tbody>\n    <tr>\n      <th>0</th>\n      <td>ModelVariance</td>\n      <td>0.438994</td>\n      <td>0.357334</td>\n      <td>0.597774</td>\n    </tr>\n    <tr>\n      <th>1</th>\n      <td>ModelVariance</td>\n      <td>0.418861</td>\n      <td>0.379355</td>\n      <td>0.615918</td>\n    </tr>\n    <tr>\n      <th>2</th>\n      <td>ModelVariance</td>\n      <td>0.428317</td>\n      <td>0.393342</td>\n      <td>0.627170</td>\n    </tr>\n    <tr>\n      <th>3</th>\n      <td>ModelVariance</td>\n      <td>0.456330</td>\n      <td>0.501061</td>\n      <td>0.707857</td>\n    </tr>\n    <tr>\n      <th>4</th>\n      <td>ModelVariance</td>\n      <td>0.421858</td>\n      <td>0.338634</td>\n      <td>0.581923</td>\n    </tr>\n  </tbody>\n</table>\n</div>"
     },
     "execution_count": 2,
     "metadata": {},
     "output_type": "execute_result"
    }
   ],
   "source": [
    "df = pd.read_csv(\"../exp_data/acquisition_functions.csv\", index_col=0)\n",
    "df.head()"
   ],
   "metadata": {
    "collapsed": false,
    "ExecuteTime": {
     "end_time": "2024-01-17T12:51:42.941384Z",
     "start_time": "2024-01-17T12:51:42.918331Z"
    }
   },
   "id": "479b49c54eace2fd",
   "execution_count": 2
  },
  {
   "cell_type": "code",
   "outputs": [],
   "source": [
    "df_melt = df.melt(id_vars=['acquisition_function'], value_vars=['mae', 'mse', 'rmse'],\n",
    "                  var_name='metric', value_name='value')"
   ],
   "metadata": {
    "collapsed": false,
    "ExecuteTime": {
     "end_time": "2024-01-17T12:51:42.941619Z",
     "start_time": "2024-01-17T12:51:42.936572Z"
    }
   },
   "id": "13fb201b3f8ab744",
   "execution_count": 3
  },
  {
   "cell_type": "code",
   "outputs": [
    {
     "data": {
      "text/plain": "<Figure size 640x480 with 1 Axes>",
      "image/png": "[encoded data removed]"
     },
     "metadata": {},
     "output_type": "display_data"
    }
   ],
   "source": [
    "barplot = sns.barplot(data=df_melt, x=\"acquisition_function\", y=\"value\", hue=\"metric\",\n",
    "                      capsize=.1, errorbar='sd', errwidth=1)\n",
    "plt.savefig(\"../figs/acquisition_func.png\", bbox_inches='tight')\n",
    "plt.savefig(\"../figs/acquisition_func.pdf\", bbox_inches='tight')"
   ],
   "metadata": {
    "collapsed": false,
    "ExecuteTime": {
     "end_time": "2024-01-17T12:56:26.141433Z",
     "start_time": "2024-01-17T12:56:25.949881Z"
    }
   },
   "id": "ec010b18b262650",
   "execution_count": 12
  },
  {
   "cell_type": "code",
   "outputs": [],
   "source": [],
   "metadata": {
    "collapsed": false,
    "ExecuteTime": {
     "start_time": "2024-01-17T12:51:45.385890Z"
    }
   },
   "id": "e86dc4d209b0f7dc",
   "execution_count": null
  }
 ],
 "metadata": {
  "kernelspec": {
   "display_name": "Python 3",
   "language": "python",
   "name": "python3"
  },
  "language_info": {
   "codemirror_mode": {
    "name": "ipython",
    "version": 2
   },
   "file_extension": ".py",
   "mimetype": "text/x-python",
   "name": "python",
   "nbconvert_exporter": "python",
   "pygments_lexer": "ipython2",
   "version": "2.7.6"
  }
 },
 "nbformat": 4,
 "nbformat_minor": 5
}
